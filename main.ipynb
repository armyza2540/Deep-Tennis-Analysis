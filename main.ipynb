{
 "cells": [
  {
   "cell_type": "code",
   "execution_count": null,
   "id": "eb0ec9ab-620f-4298-89ee-e981ce4b0231",
   "metadata": {},
   "outputs": [],
   "source": [
    "!pip install ultralytics"
   ]
  },
  {
   "cell_type": "code",
   "execution_count": 14,
   "id": "7c7453cb-9c9e-45f4-9594-f9514b0f7257",
   "metadata": {
    "tags": []
   },
   "outputs": [
    {
     "name": "stdout",
     "output_type": "stream",
     "text": [
      "TRUE\n"
     ]
    }
   ],
   "source": [
    "from ultralytics import YOLO\n",
    "from utils import read_video, save_video\n",
    "from trackers import PlayerTracker\n",
    "import cv2\n",
    "import os\n",
    "import torch \n",
    "# Set the environment variable; to allow persist=True in model tracking without causing crashes\n",
    "os.environ['KMP_DUPLICATE_LIB_OK'] = 'TRUE'\n",
    "\n",
    "# Verify that the variable is set\n",
    "print(os.environ['KMP_DUPLICATE_LIB_OK'])"
   ]
  },
  {
   "cell_type": "code",
   "execution_count": null,
   "id": "609808f3-b240-4149-8be9-6faef83c3b42",
   "metadata": {
    "tags": []
   },
   "outputs": [],
   "source": [
    "    # Define and read input video for inference\n",
    "    input_video_path = './input_videos/input_video.mp4'\n",
    "    video_frames = read_video(input_video_path)\n",
    "    \n",
    "    # Initial player tracker and detect players\n",
    "    tracker_model_name = 'yolov8x'\n",
    "    player_tracker = PlayerTracker(tracker_model_name)\n",
    "    print('Detecting players...')\n",
    "    player_detections = player_tracker.detect_frames(video_frames)\n",
    "    \n",
    "    # Draw outputs bounding boxes\n",
    "    print('Drawing bounding boxes...')\n",
    "    video_frames = player_tracker.draw_bounding_boxes(video_frames, player_detections)\n",
    "    \n",
    "    # Save the output video\n",
    "    print('Saving the output video...')\n",
    "    save_video(video_frames, './output_videos/output_video.avi')\n",
    "    print('Done!')"
   ]
  },
  {
   "cell_type": "code",
   "execution_count": null,
   "id": "72a73ba5-9b44-443a-8740-1d4c701934b8",
   "metadata": {
    "tags": []
   },
   "outputs": [],
   "source": [
    "# model = YOLO('yolov8x.pt')\n",
    "# video_path = './input_videos/input_video.mp4'\n",
    "# cap = cv2.VideoCapture(video_path)\n",
    "\n",
    "# while cap.isOpened():\n",
    "#     success, frame = cap.read()\n",
    "#     if success:\n",
    "#         results = model.track(frame, persist=True, show=True)\n",
    "        \n",
    "#         # visualize the results on the frame\n",
    "#         annotated_frame = results[0].plot()\n",
    "#         cv2.imshow('YOLOv8 Tracking', annotated_frame)\n",
    "\n",
    "#         if cv2.waitKey(1) & 0xFF == ord('q'):\n",
    "#             break\n",
    "#     else:\n",
    "#         break\n",
    "\n",
    "# cap.release()\n",
    "# cv2.destroyAllWindows()"
   ]
  },
  {
   "cell_type": "code",
   "execution_count": 16,
   "id": "deaf550e-ffd9-4d99-97c4-6e670e1a92c8",
   "metadata": {},
   "outputs": [
    {
     "data": {
      "text/plain": [
       "True"
      ]
     },
     "execution_count": 16,
     "metadata": {},
     "output_type": "execute_result"
    }
   ],
   "source": [
    "dev = torch.cuda.is_available()\n",
    "dev"
   ]
  },
  {
   "cell_type": "markdown",
   "id": "2b921a75-8ecb-4b02-a182-568f46463d00",
   "metadata": {},
   "source": [
    "## Rereferences: \n",
    "https://docs.ultralytics.com/modes/track/#contribute-new-trackers"
   ]
  }
 ],
 "metadata": {
  "kernelspec": {
   "display_name": "Python 3 (ipykernel)",
   "language": "python",
   "name": "python3"
  },
  "language_info": {
   "codemirror_mode": {
    "name": "ipython",
    "version": 3
   },
   "file_extension": ".py",
   "mimetype": "text/x-python",
   "name": "python",
   "nbconvert_exporter": "python",
   "pygments_lexer": "ipython3",
   "version": "3.9.18"
  }
 },
 "nbformat": 4,
 "nbformat_minor": 5
}
